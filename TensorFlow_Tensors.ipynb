{
  "nbformat": 4,
  "nbformat_minor": 0,
  "metadata": {
    "colab": {
      "name": "TensorFlow_Tensors.ipynb",
      "version": "0.3.2",
      "provenance": [],
      "collapsed_sections": [],
      "include_colab_link": true
    },
    "kernelspec": {
      "name": "python3",
      "display_name": "Python 3"
    },
    "accelerator": "GPU"
  },
  "cells": [
    {
      "cell_type": "markdown",
      "metadata": {
        "id": "view-in-github",
        "colab_type": "text"
      },
      "source": [
        "<a href=\"https://colab.research.google.com/github/paulgureghian/TensorFlow_Projects/blob/master/TensorFlow_Tensors.ipynb\" target=\"_parent\"><img src=\"https://colab.research.google.com/assets/colab-badge.svg\" alt=\"Open In Colab\"/></a>"
      ]
    },
    {
      "metadata": {
        "id": "-avGkOJowjcf",
        "colab_type": "text"
      },
      "cell_type": "markdown",
      "source": [
        "**Created by Paul A. Gureghian in Jan 2019.**"
      ]
    },
    {
      "metadata": {
        "id": "7dc6wMz2wsPi",
        "colab_type": "text"
      },
      "cell_type": "markdown",
      "source": [
        "**I will create a TensorFlow Tensor full of ones using the 'TensorFlow Ones' operation.**"
      ]
    },
    {
      "metadata": {
        "id": "K-PCpcwPxKLB",
        "colab_type": "code",
        "colab": {}
      },
      "cell_type": "code",
      "source": [
        "### Import TensorFlow\n",
        "import tensorflow as tf"
      ],
      "execution_count": 0,
      "outputs": []
    },
    {
      "metadata": {
        "id": "E0hFe40Xxi-1",
        "colab_type": "code",
        "colab": {
          "base_uri": "https://localhost:8080/",
          "height": 34
        },
        "outputId": "7f2604bd-fc48-41b4-8980-618beb35b571"
      },
      "cell_type": "code",
      "source": [
        "### Print TensorFlow version \n",
        "print(tf.__version__) "
      ],
      "execution_count": 2,
      "outputs": [
        {
          "output_type": "stream",
          "text": [
            "1.12.0\n"
          ],
          "name": "stdout"
        }
      ]
    },
    {
      "metadata": {
        "id": "ceoI_VwFx2H-",
        "colab_type": "code",
        "colab": {}
      },
      "cell_type": "code",
      "source": [
        "### Create a TF Tensor of integers\n",
        "tf_int_ones_ex = tf.ones(shape =[1,2,3], dtype ='int32') "
      ],
      "execution_count": 0,
      "outputs": []
    },
    {
      "metadata": {
        "id": "BQsIFjMfycSA",
        "colab_type": "code",
        "colab": {
          "base_uri": "https://localhost:8080/",
          "height": 34
        },
        "outputId": "73b4f41a-3029-4fcc-f369-56ea66f0cbe4"
      },
      "cell_type": "code",
      "source": [
        "### Print the int Tensor\n",
        "print(tf_int_ones_ex) "
      ],
      "execution_count": 4,
      "outputs": [
        {
          "output_type": "stream",
          "text": [
            "Tensor(\"ones:0\", shape=(1, 2, 3), dtype=int32)\n"
          ],
          "name": "stdout"
        }
      ]
    },
    {
      "metadata": {
        "id": "zILbdp0Iy2t4",
        "colab_type": "code",
        "colab": {}
      },
      "cell_type": "code",
      "source": [
        "### Create a TF tensor of floats \n",
        "tf_float_ones_ex = tf.ones(shape =[2,3,4], dtype ='float32')"
      ],
      "execution_count": 0,
      "outputs": []
    },
    {
      "metadata": {
        "id": "KcRAjOM-zQri",
        "colab_type": "code",
        "colab": {
          "base_uri": "https://localhost:8080/",
          "height": 34
        },
        "outputId": "945463d5-6eb4-4983-f097-8803c9c1af4c"
      },
      "cell_type": "code",
      "source": [
        "### Print the float Tensor \n",
        "print(tf_float_ones_ex)"
      ],
      "execution_count": 6,
      "outputs": [
        {
          "output_type": "stream",
          "text": [
            "Tensor(\"ones_1:0\", shape=(2, 3, 4), dtype=float32)\n"
          ],
          "name": "stdout"
        }
      ]
    },
    {
      "metadata": {
        "id": "NrkZx1_5zpiT",
        "colab_type": "code",
        "colab": {}
      },
      "cell_type": "code",
      "source": [
        "### Launch the computational graph session\n",
        "sess = tf.Session() "
      ],
      "execution_count": 0,
      "outputs": []
    },
    {
      "metadata": {
        "id": "pMwgj_n31HOC",
        "colab_type": "code",
        "colab": {}
      },
      "cell_type": "code",
      "source": [
        "### Initialize the global variables in the graph\n",
        "sess.run(tf.global_variables_initializer()) \n"
      ],
      "execution_count": 0,
      "outputs": []
    },
    {
      "metadata": {
        "id": "LWcI_ryS1kRT",
        "colab_type": "code",
        "colab": {
          "base_uri": "https://localhost:8080/",
          "height": 51
        },
        "outputId": "118cc791-e99c-412a-b69e-bfb5564757e4"
      },
      "cell_type": "code",
      "source": [
        "### Print the int Tensor \n",
        "print(sess.run(tf_int_ones_ex)) "
      ],
      "execution_count": 9,
      "outputs": [
        {
          "output_type": "stream",
          "text": [
            "[[[1 1 1]\n",
            "  [1 1 1]]]\n"
          ],
          "name": "stdout"
        }
      ]
    },
    {
      "metadata": {
        "id": "gCmfFbmY2NWd",
        "colab_type": "code",
        "colab": {
          "base_uri": "https://localhost:8080/",
          "height": 136
        },
        "outputId": "40c7983d-5c67-42b4-cb5d-a6adf1f45b2a"
      },
      "cell_type": "code",
      "source": [
        "### Print the float Tensor\n",
        "print(sess.run(tf_float_ones_ex)) "
      ],
      "execution_count": 10,
      "outputs": [
        {
          "output_type": "stream",
          "text": [
            "[[[1. 1. 1. 1.]\n",
            "  [1. 1. 1. 1.]\n",
            "  [1. 1. 1. 1.]]\n",
            "\n",
            " [[1. 1. 1. 1.]\n",
            "  [1. 1. 1. 1.]\n",
            "  [1. 1. 1. 1.]]]\n"
          ],
          "name": "stdout"
        }
      ]
    },
    {
      "metadata": {
        "id": "TJtIASqq2lhW",
        "colab_type": "code",
        "colab": {}
      },
      "cell_type": "code",
      "source": [
        "### Close the TF session\n",
        "sess.close() "
      ],
      "execution_count": 0,
      "outputs": []
    }
  ]
}